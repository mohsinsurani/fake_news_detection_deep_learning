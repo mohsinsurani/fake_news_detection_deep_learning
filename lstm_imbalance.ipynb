{
  "nbformat": 4,
  "nbformat_minor": 0,
  "metadata": {
    "colab": {
      "name": "lstm_imbalance.ipynb",
      "provenance": [],
      "collapsed_sections": []
    },
    "kernelspec": {
      "name": "python3",
      "display_name": "Python 3"
    },
    "language_info": {
      "name": "python"
    }
  },
  "cells": [
    {
      "cell_type": "code",
      "execution_count": 1,
      "metadata": {
        "colab": {
          "base_uri": "https://localhost:8080/"
        },
        "id": "6HNUZUsZkquf",
        "outputId": "3a1ab197-a0f1-4467-ac79-61a8bfb42e10"
      },
      "outputs": [
        {
          "output_type": "stream",
          "name": "stdout",
          "text": [
            "Mounted at /content/drive\n",
            "/content/drive/My Drive/Colab Notebooks\n"
          ]
        }
      ],
      "source": [
        "# Insert the directory\n",
        "from google.colab import drive \n",
        "drive.mount('/content/drive')\n",
        "%cd /content/drive/My Drive/Colab Notebooks"
      ]
    },
    {
      "cell_type": "code",
      "source": [
        "from review_df import ReviewDF\n",
        "df = ReviewDF.get_df()"
      ],
      "metadata": {
        "colab": {
          "base_uri": "https://localhost:8080/"
        },
        "id": "jAllLm84kwLd",
        "outputId": "f2047ca3-2510-4575-f9ec-38d1b5a27617"
      },
      "execution_count": 2,
      "outputs": [
        {
          "output_type": "stream",
          "name": "stderr",
          "text": [
            "/usr/local/lib/python3.7/dist-packages/pandas/core/indexing.py:1667: SettingWithCopyWarning: \n",
            "A value is trying to be set on a copy of a slice from a DataFrame.\n",
            "Try using .loc[row_indexer,col_indexer] = value instead\n",
            "\n",
            "See the caveats in the documentation: https://pandas.pydata.org/pandas-docs/stable/user_guide/indexing.html#returning-a-view-versus-a-copy\n",
            "  self.obj[key] = value\n"
          ]
        }
      ]
    },
    {
      "cell_type": "code",
      "source": [
        "df.head()"
      ],
      "metadata": {
        "colab": {
          "base_uri": "https://localhost:8080/",
          "height": 206
        },
        "id": "Sd_XZj10k1Gc",
        "outputId": "5c1fa5d5-e53c-4028-f91e-8edc0e17a376"
      },
      "execution_count": 3,
      "outputs": [
        {
          "output_type": "execute_result",
          "data": {
            "text/plain": [
              "                                                text  sentiment\n",
              "0  I have bought several of the Vitality canned d...          1\n",
              "1  Product arrived labeled as Jumbo Salted Peanut...          0\n",
              "2  This is a confection that has been around a fe...          1\n",
              "3  If you are looking for the secret ingredient i...          0\n",
              "4  Great taffy at a great price  There was a wide...          1"
            ],
            "text/html": [
              "\n",
              "  <div id=\"df-9a534bc6-5841-492c-a01c-059b0f1fb753\">\n",
              "    <div class=\"colab-df-container\">\n",
              "      <div>\n",
              "<style scoped>\n",
              "    .dataframe tbody tr th:only-of-type {\n",
              "        vertical-align: middle;\n",
              "    }\n",
              "\n",
              "    .dataframe tbody tr th {\n",
              "        vertical-align: top;\n",
              "    }\n",
              "\n",
              "    .dataframe thead th {\n",
              "        text-align: right;\n",
              "    }\n",
              "</style>\n",
              "<table border=\"1\" class=\"dataframe\">\n",
              "  <thead>\n",
              "    <tr style=\"text-align: right;\">\n",
              "      <th></th>\n",
              "      <th>text</th>\n",
              "      <th>sentiment</th>\n",
              "    </tr>\n",
              "  </thead>\n",
              "  <tbody>\n",
              "    <tr>\n",
              "      <th>0</th>\n",
              "      <td>I have bought several of the Vitality canned d...</td>\n",
              "      <td>1</td>\n",
              "    </tr>\n",
              "    <tr>\n",
              "      <th>1</th>\n",
              "      <td>Product arrived labeled as Jumbo Salted Peanut...</td>\n",
              "      <td>0</td>\n",
              "    </tr>\n",
              "    <tr>\n",
              "      <th>2</th>\n",
              "      <td>This is a confection that has been around a fe...</td>\n",
              "      <td>1</td>\n",
              "    </tr>\n",
              "    <tr>\n",
              "      <th>3</th>\n",
              "      <td>If you are looking for the secret ingredient i...</td>\n",
              "      <td>0</td>\n",
              "    </tr>\n",
              "    <tr>\n",
              "      <th>4</th>\n",
              "      <td>Great taffy at a great price  There was a wide...</td>\n",
              "      <td>1</td>\n",
              "    </tr>\n",
              "  </tbody>\n",
              "</table>\n",
              "</div>\n",
              "      <button class=\"colab-df-convert\" onclick=\"convertToInteractive('df-9a534bc6-5841-492c-a01c-059b0f1fb753')\"\n",
              "              title=\"Convert this dataframe to an interactive table.\"\n",
              "              style=\"display:none;\">\n",
              "        \n",
              "  <svg xmlns=\"http://www.w3.org/2000/svg\" height=\"24px\"viewBox=\"0 0 24 24\"\n",
              "       width=\"24px\">\n",
              "    <path d=\"M0 0h24v24H0V0z\" fill=\"none\"/>\n",
              "    <path d=\"M18.56 5.44l.94 2.06.94-2.06 2.06-.94-2.06-.94-.94-2.06-.94 2.06-2.06.94zm-11 1L8.5 8.5l.94-2.06 2.06-.94-2.06-.94L8.5 2.5l-.94 2.06-2.06.94zm10 10l.94 2.06.94-2.06 2.06-.94-2.06-.94-.94-2.06-.94 2.06-2.06.94z\"/><path d=\"M17.41 7.96l-1.37-1.37c-.4-.4-.92-.59-1.43-.59-.52 0-1.04.2-1.43.59L10.3 9.45l-7.72 7.72c-.78.78-.78 2.05 0 2.83L4 21.41c.39.39.9.59 1.41.59.51 0 1.02-.2 1.41-.59l7.78-7.78 2.81-2.81c.8-.78.8-2.07 0-2.86zM5.41 20L4 18.59l7.72-7.72 1.47 1.35L5.41 20z\"/>\n",
              "  </svg>\n",
              "      </button>\n",
              "      \n",
              "  <style>\n",
              "    .colab-df-container {\n",
              "      display:flex;\n",
              "      flex-wrap:wrap;\n",
              "      gap: 12px;\n",
              "    }\n",
              "\n",
              "    .colab-df-convert {\n",
              "      background-color: #E8F0FE;\n",
              "      border: none;\n",
              "      border-radius: 50%;\n",
              "      cursor: pointer;\n",
              "      display: none;\n",
              "      fill: #1967D2;\n",
              "      height: 32px;\n",
              "      padding: 0 0 0 0;\n",
              "      width: 32px;\n",
              "    }\n",
              "\n",
              "    .colab-df-convert:hover {\n",
              "      background-color: #E2EBFA;\n",
              "      box-shadow: 0px 1px 2px rgba(60, 64, 67, 0.3), 0px 1px 3px 1px rgba(60, 64, 67, 0.15);\n",
              "      fill: #174EA6;\n",
              "    }\n",
              "\n",
              "    [theme=dark] .colab-df-convert {\n",
              "      background-color: #3B4455;\n",
              "      fill: #D2E3FC;\n",
              "    }\n",
              "\n",
              "    [theme=dark] .colab-df-convert:hover {\n",
              "      background-color: #434B5C;\n",
              "      box-shadow: 0px 1px 3px 1px rgba(0, 0, 0, 0.15);\n",
              "      filter: drop-shadow(0px 1px 2px rgba(0, 0, 0, 0.3));\n",
              "      fill: #FFFFFF;\n",
              "    }\n",
              "  </style>\n",
              "\n",
              "      <script>\n",
              "        const buttonEl =\n",
              "          document.querySelector('#df-9a534bc6-5841-492c-a01c-059b0f1fb753 button.colab-df-convert');\n",
              "        buttonEl.style.display =\n",
              "          google.colab.kernel.accessAllowed ? 'block' : 'none';\n",
              "\n",
              "        async function convertToInteractive(key) {\n",
              "          const element = document.querySelector('#df-9a534bc6-5841-492c-a01c-059b0f1fb753');\n",
              "          const dataTable =\n",
              "            await google.colab.kernel.invokeFunction('convertToInteractive',\n",
              "                                                     [key], {});\n",
              "          if (!dataTable) return;\n",
              "\n",
              "          const docLinkHtml = 'Like what you see? Visit the ' +\n",
              "            '<a target=\"_blank\" href=https://colab.research.google.com/notebooks/data_table.ipynb>data table notebook</a>'\n",
              "            + ' to learn more about interactive tables.';\n",
              "          element.innerHTML = '';\n",
              "          dataTable['output_type'] = 'display_data';\n",
              "          await google.colab.output.renderOutput(dataTable, element);\n",
              "          const docLink = document.createElement('div');\n",
              "          docLink.innerHTML = docLinkHtml;\n",
              "          element.appendChild(docLink);\n",
              "        }\n",
              "      </script>\n",
              "    </div>\n",
              "  </div>\n",
              "  "
            ]
          },
          "metadata": {},
          "execution_count": 3
        }
      ]
    },
    {
      "cell_type": "code",
      "source": [
        "import sklearn\n",
        "from sklearn.model_selection import train_test_split\n",
        "\n",
        "# split set\n",
        "x_train, x_test, y_train, y_test = train_test_split(df['text'], df['sentiment'], test_size= .15, random_state= 111, stratify= None )\n",
        "x_train, x_val, y_train, y_val= train_test_split(x_train, y_train, test_size= .25, random_state= 111, stratify= None )"
      ],
      "metadata": {
        "id": "Y62QL9onk3-9"
      },
      "execution_count": 3,
      "outputs": []
    },
    {
      "cell_type": "code",
      "source": [
        "print(f'train set Count: {len(x_train)}')\n",
        "print(f'validation set Count: {len(x_val)}')\n",
        "print(f'test set Count: {len(x_test)}')"
      ],
      "metadata": {
        "colab": {
          "base_uri": "https://localhost:8080/"
        },
        "id": "gzwBWLzlk66I",
        "outputId": "de3c6cf8-f61e-4910-e283-15b3d78a6ab0"
      },
      "execution_count": 4,
      "outputs": [
        {
          "output_type": "stream",
          "name": "stdout",
          "text": [
            "train set Count: 188991\n",
            "validation set Count: 62997\n",
            "test set Count: 44469\n"
          ]
        }
      ]
    },
    {
      "cell_type": "code",
      "source": [
        "import tensorflow as tf\n",
        "\n",
        "from tensorflow import keras\n",
        "import numpy as np \n",
        "import pandas as pd \n",
        "import matplotlib.pyplot as plt\n",
        "import os\n",
        "\n",
        "import tensorflow as tf\n",
        "from tensorflow import keras\n",
        "\n",
        "import re\n",
        "import string\n",
        "import random\n",
        "\n",
        "unique_words = 15000\n",
        "\n",
        "vectorize_layer = tf.keras.layers.TextVectorization(\n",
        "    max_tokens=unique_words,\n",
        "    standardize='lower_and_strip_punctuation',\n",
        "    split='whitespace',\n",
        "    ngrams=None,\n",
        "    output_mode='int',\n",
        "    output_sequence_length=110,\n",
        "    pad_to_max_tokens=False,\n",
        "    vocabulary=None,\n",
        "    idf_weights=None,\n",
        "    sparse=False,\n",
        "    ragged=False)\n"
      ],
      "metadata": {
        "id": "c33AY1zak-jT"
      },
      "execution_count": 5,
      "outputs": []
    },
    {
      "cell_type": "code",
      "source": [
        "vectorize_layer.adapt(x_train)"
      ],
      "metadata": {
        "id": "5vniMfwIs6Iw"
      },
      "execution_count": 6,
      "outputs": []
    },
    {
      "cell_type": "code",
      "source": [
        "vocab = vectorize_layer.get_vocabulary() \n",
        "print(\"vocabulary =\", len(vocab),\" entries\")\n",
        "print(\"vocabulary first 10 entries\")\n",
        "for word in range(10):\n",
        "  print(word, \" represents the word: \", vocab[word])\n",
        "\n",
        "for i in x_train[:2]:\n",
        "  print(\" Given raw data: \" )\n",
        "  print(i)\n",
        "  tokenized = vectorize_layer(tf.expand_dims(i, -1))\n",
        "  print(\" Tokenized & Transformed to int vectors: \" )\n",
        "  print (tokenized)\n",
        "  print(\"text after tokenize & transform: \")\n",
        "  transformedText = \"\"\n",
        "  for each in tf.squeeze(tokenized):\n",
        "    transformedText= transformedText+ \" \"+ vocab[each]\n",
        "  print(transformedText)"
      ],
      "metadata": {
        "colab": {
          "base_uri": "https://localhost:8080/"
        },
        "id": "SWKndDmDP3NI",
        "outputId": "bf20adaf-00dd-466a-f5e0-0c453b5766d1"
      },
      "execution_count": 7,
      "outputs": [
        {
          "output_type": "stream",
          "name": "stdout",
          "text": [
            "vocabulary = 15000  entries\n",
            "vocabulary first 10 entries\n",
            "0  represents the word:  \n",
            "1  represents the word:  [UNK]\n",
            "2  represents the word:  the\n",
            "3  represents the word:  i\n",
            "4  represents the word:  and\n",
            "5  represents the word:  a\n",
            "6  represents the word:  it\n",
            "7  represents the word:  to\n",
            "8  represents the word:  this\n",
            "9  represents the word:  is\n",
            " Given raw data: \n",
            "Ive been making wine for about a year and recently tried this one Following others advice I made this a 5 gallon batch I also added raisins peppercorns and oak chips Although its only been bottled a month this is the  flavor Ive been trying to get dry oaky and a hint of pepper Ill be making more soon\n",
            " Tokenized & Transformed to int vectors: \n",
            "tf.Tensor(\n",
            "[[  91   85  332  923   11   78    5  276    4  600   79    8   39 2104\n",
            "   391 2871    3  121    8    5  264 1730  787    3   86  323 1039 3312\n",
            "     4 5469  309  476   35   67   85 1916    5  480    8    9    2   41\n",
            "    91   85  313    7   58  350    1    4    5  733   10  648  339   38\n",
            "   332   52  638    0    0    0    0    0    0    0    0    0    0    0\n",
            "     0    0    0    0    0    0    0    0    0    0    0    0    0    0\n",
            "     0    0    0    0    0    0    0    0    0    0    0    0    0    0\n",
            "     0    0    0    0    0    0    0    0    0    0    0    0]], shape=(1, 110), dtype=int64)\n",
            "text after tokenize & transform: \n",
            " ive been making wine for about a year and recently tried this one following others advice i made this a 5 gallon batch i also added raisins peppercorns and oak chips although its only been bottled a month this is the flavor ive been trying to get dry [UNK] and a hint of pepper ill be making more soon                                                   \n",
            " Given raw data: \n",
            "My kids were excited when they saw the pack but the kit doesnt teach you much and the gums taste horrible It was a waste\n",
            " Tokenized & Transformed to int vectors: \n",
            "tf.Tensor(\n",
            "[[  13  266   71  672   51   22  675    2  219   14    2 1366  189 6251\n",
            "    21   69    4    2 2084   32  846    6   19    5  611    0    0    0\n",
            "     0    0    0    0    0    0    0    0    0    0    0    0    0    0\n",
            "     0    0    0    0    0    0    0    0    0    0    0    0    0    0\n",
            "     0    0    0    0    0    0    0    0    0    0    0    0    0    0\n",
            "     0    0    0    0    0    0    0    0    0    0    0    0    0    0\n",
            "     0    0    0    0    0    0    0    0    0    0    0    0    0    0\n",
            "     0    0    0    0    0    0    0    0    0    0    0    0]], shape=(1, 110), dtype=int64)\n",
            "text after tokenize & transform: \n",
            " my kids were excited when they saw the pack but the kit doesnt teach you much and the gums taste horrible it was a waste                                                                                     \n"
          ]
        }
      ]
    },
    {
      "cell_type": "code",
      "source": [
        "filepath = \"vectorize_layer_model_imbalance\"\n",
        "\n",
        "vectorize_layer_model = tf.keras.models.Sequential()\n",
        "vectorize_layer_model.add(tf.keras.Input(shape=(1,), dtype=tf.string))\n",
        "vectorize_layer_model.add(vectorize_layer)\n",
        "vectorize_layer_model.summary()"
      ],
      "metadata": {
        "colab": {
          "base_uri": "https://localhost:8080/"
        },
        "id": "UTZeyn9Fs87H",
        "outputId": "2613ed97-1c48-4f8a-8f90-e2c604cac00b"
      },
      "execution_count": 8,
      "outputs": [
        {
          "output_type": "stream",
          "name": "stdout",
          "text": [
            "Model: \"sequential\"\n",
            "_________________________________________________________________\n",
            " Layer (type)                Output Shape              Param #   \n",
            "=================================================================\n",
            " text_vectorization (TextVec  (None, 110)              0         \n",
            " torization)                                                     \n",
            "                                                                 \n",
            "=================================================================\n",
            "Total params: 0\n",
            "Trainable params: 0\n",
            "Non-trainable params: 0\n",
            "_________________________________________________________________\n"
          ]
        }
      ]
    },
    {
      "cell_type": "code",
      "source": [
        "vectorize_layer_model.save(filepath, save_format=\"tf\")"
      ],
      "metadata": {
        "colab": {
          "base_uri": "https://localhost:8080/"
        },
        "id": "iIsBugMktI-2",
        "outputId": "ce805fd1-95d3-4dc1-909f-ea4b241b6553"
      },
      "execution_count": 9,
      "outputs": [
        {
          "output_type": "stream",
          "name": "stdout",
          "text": [
            "WARNING:tensorflow:Compiled the loaded model, but the compiled metrics have yet to be built. `model.compile_metrics` will be empty until you train or evaluate the model.\n",
            "INFO:tensorflow:Assets written to: vectorize_layer_model_imbalance/assets\n"
          ]
        }
      ]
    },
    {
      "cell_type": "code",
      "source": [
        "loaded_vectorize_layer_model = tf.keras.models.load_model(filepath)\n",
        "loaded_vectorize_layer = loaded_vectorize_layer_model.layers[0]"
      ],
      "metadata": {
        "colab": {
          "base_uri": "https://localhost:8080/"
        },
        "id": "JmW_F6WItRAR",
        "outputId": "22dc3c1c-906c-494a-bc73-ab0c72e2ce90"
      },
      "execution_count": 10,
      "outputs": [
        {
          "output_type": "stream",
          "name": "stdout",
          "text": [
            "WARNING:tensorflow:No training configuration found in save file, so the model was *not* compiled. Compile it manually.\n"
          ]
        }
      ]
    },
    {
      "cell_type": "code",
      "source": [
        "def convert_text_input(sample):\n",
        "    text = sample\n",
        "    text = tf.expand_dims(text, -1)  \n",
        "    return tf.squeeze(loaded_vectorize_layer(text))"
      ],
      "metadata": {
        "id": "IY6jSMSUtUpr"
      },
      "execution_count": 11,
      "outputs": []
    },
    {
      "cell_type": "code",
      "source": [
        "train_seq = convert_text_input(x_train)\n",
        "val_seq = convert_text_input(x_val)\n",
        "test_seq = convert_text_input(x_test)"
      ],
      "metadata": {
        "id": "8Vl9u5PZtddX"
      },
      "execution_count": 12,
      "outputs": []
    },
    {
      "cell_type": "code",
      "source": [
        "train_seq.shape"
      ],
      "metadata": {
        "colab": {
          "base_uri": "https://localhost:8080/"
        },
        "id": "mi6fEREazggA",
        "outputId": "6c298443-7ae8-4d31-b5ff-fca61801d481"
      },
      "execution_count": 43,
      "outputs": [
        {
          "output_type": "execute_result",
          "data": {
            "text/plain": [
              "TensorShape([188991, 110])"
            ]
          },
          "metadata": {},
          "execution_count": 43
        }
      ]
    },
    {
      "cell_type": "code",
      "source": [
        "from keras import Sequential, regularizers \n",
        "\n",
        "from keras.layers import Embedding, LSTM, Dense\n",
        "from keras import losses\n",
        "\n",
        "embedding_dim = 64\n",
        "sequence_length = 110\n",
        "cells = 16\n",
        "batch_size= 64\n",
        "epochs = 20"
      ],
      "metadata": {
        "id": "G81hXDqjthFJ"
      },
      "execution_count": 36,
      "outputs": []
    },
    {
      "cell_type": "code",
      "source": [
        "lstm = keras.Sequential(\n",
        "   [ Embedding(unique_words+1, embedding_dim, input_length=sequence_length) ,\n",
        "  LSTM(cells),\n",
        "  Dense(32,activation='relu'),\n",
        "  Dense(1,activation='sigmoid')]\n",
        ")"
      ],
      "metadata": {
        "id": "KZlYyoGJtkGL"
      },
      "execution_count": 37,
      "outputs": []
    },
    {
      "cell_type": "code",
      "source": [
        "lstm.summary()"
      ],
      "metadata": {
        "colab": {
          "base_uri": "https://localhost:8080/"
        },
        "id": "w6yRvyiftnGk",
        "outputId": "079160b3-571b-4a0b-b2fd-50006a75df9d"
      },
      "execution_count": 38,
      "outputs": [
        {
          "output_type": "stream",
          "name": "stdout",
          "text": [
            "Model: \"sequential_4\"\n",
            "_________________________________________________________________\n",
            " Layer (type)                Output Shape              Param #   \n",
            "=================================================================\n",
            " embedding_3 (Embedding)     (None, 110, 64)           960064    \n",
            "                                                                 \n",
            " lstm_3 (LSTM)               (None, 16)                5184      \n",
            "                                                                 \n",
            " dense_9 (Dense)             (None, 32)                544       \n",
            "                                                                 \n",
            " dense_10 (Dense)            (None, 1)                 33        \n",
            "                                                                 \n",
            "=================================================================\n",
            "Total params: 965,825\n",
            "Trainable params: 965,825\n",
            "Non-trainable params: 0\n",
            "_________________________________________________________________\n"
          ]
        }
      ]
    },
    {
      "cell_type": "code",
      "source": [
        "metrics = [\n",
        "      keras.metrics.TruePositives(name='tp'),\n",
        "      keras.metrics.FalsePositives(name='fp'),\n",
        "      keras.metrics.TrueNegatives(name='tn'),\n",
        "      keras.metrics.FalseNegatives(name='fn'), \n",
        "      keras.metrics.BinaryAccuracy(name='accuracy'),\n",
        "      keras.metrics.Precision(name='precision'),\n",
        "      keras.metrics.Recall(name='recall'),\n",
        "      keras.metrics.AUC(name='auc'),\n",
        "      keras.metrics.AUC(name='prc', curve='PR'), # precision & recall curve\n",
        "]\n",
        "lstm.compile(loss='binary_crossentropy',optimizer=keras.optimizers.Adam(1e-3),metrics=metrics)"
      ],
      "metadata": {
        "id": "XD2Qx8-OtpnS"
      },
      "execution_count": 39,
      "outputs": []
    },
    {
      "cell_type": "code",
      "source": [
        "from keras.callbacks import EarlyStopping, ModelCheckpoint\n",
        "\n",
        "earlyStopping = EarlyStopping(monitor='val_loss', patience=3, verbose=0, mode='min')\n",
        "mcp_save = ModelCheckpoint('.mdl_wts.hdf5', save_best_only=True, monitor='val_loss', mode='min')\n",
        "\n",
        "lstm.fit(train_seq,y_train,validation_data= (val_seq, y_val),\n",
        "                    epochs= epochs,batch_size= batch_size, verbose=1, callbacks=[earlyStopping, mcp_save])"
      ],
      "metadata": {
        "colab": {
          "base_uri": "https://localhost:8080/"
        },
        "id": "F5UWYv6MtvDs",
        "outputId": "6850ee09-8a3f-4cf1-e4b1-283589bae531"
      },
      "execution_count": 40,
      "outputs": [
        {
          "output_type": "stream",
          "name": "stdout",
          "text": [
            "Epoch 1/20\n",
            "2953/2953 [==============================] - 225s 75ms/step - loss: 0.3712 - tp: 160986.0000 - fp: 24089.0000 - tn: 2130.0000 - fn: 1786.0000 - accuracy: 0.8631 - precision: 0.8698 - recall: 0.9890 - auc: 0.6804 - prc: 0.9201 - val_loss: 0.3644 - val_tp: 54223.0000 - val_fp: 8774.0000 - val_tn: 0.0000e+00 - val_fn: 0.0000e+00 - val_accuracy: 0.8607 - val_precision: 0.8607 - val_recall: 1.0000 - val_auc: 0.7494 - val_prc: 0.9458\n",
            "Epoch 2/20\n",
            "2953/2953 [==============================] - 212s 72ms/step - loss: 0.3406 - tp: 158715.0000 - fp: 20681.0000 - tn: 5538.0000 - fn: 4057.0000 - accuracy: 0.8691 - precision: 0.8847 - recall: 0.9751 - auc: 0.7492 - prc: 0.9361 - val_loss: 0.3701 - val_tp: 54223.0000 - val_fp: 8774.0000 - val_tn: 0.0000e+00 - val_fn: 0.0000e+00 - val_accuracy: 0.8607 - val_precision: 0.8607 - val_recall: 1.0000 - val_auc: 0.6492 - val_prc: 0.9259\n",
            "Epoch 3/20\n",
            "2953/2953 [==============================] - 212s 72ms/step - loss: 0.3899 - tp: 162772.0000 - fp: 26219.0000 - tn: 0.0000e+00 - fn: 0.0000e+00 - accuracy: 0.8613 - precision: 0.8613 - recall: 1.0000 - auc: 0.5895 - prc: 0.9047 - val_loss: 0.4042 - val_tp: 54223.0000 - val_fp: 8774.0000 - val_tn: 0.0000e+00 - val_fn: 0.0000e+00 - val_accuracy: 0.8607 - val_precision: 0.8607 - val_recall: 1.0000 - val_auc: 0.4976 - val_prc: 0.8602\n",
            "Epoch 4/20\n",
            "2953/2953 [==============================] - 212s 72ms/step - loss: 0.4029 - tp: 162772.0000 - fp: 26219.0000 - tn: 0.0000e+00 - fn: 0.0000e+00 - accuracy: 0.8613 - precision: 0.8613 - recall: 1.0000 - auc: 0.5032 - prc: 0.8622 - val_loss: 0.4039 - val_tp: 54223.0000 - val_fp: 8774.0000 - val_tn: 0.0000e+00 - val_fn: 0.0000e+00 - val_accuracy: 0.8607 - val_precision: 0.8607 - val_recall: 1.0000 - val_auc: 0.4996 - val_prc: 0.8607\n"
          ]
        },
        {
          "output_type": "execute_result",
          "data": {
            "text/plain": [
              "<keras.callbacks.History at 0x7f80b1a0cd50>"
            ]
          },
          "metadata": {},
          "execution_count": 40
        }
      ]
    },
    {
      "cell_type": "code",
      "source": [
        "file_name = \"/content/drive/MyDrive/Colab Notebooks/LSTM_imbalanced.pkl\"  "
      ],
      "metadata": {
        "id": "_2gE_yoxuC-L"
      },
      "execution_count": 41,
      "outputs": []
    },
    {
      "cell_type": "code",
      "source": [
        "tf.keras.models.save_model(lstm, file_name)"
      ],
      "metadata": {
        "colab": {
          "base_uri": "https://localhost:8080/"
        },
        "id": "WiznNrbXuH7g",
        "outputId": "7a37d419-6692-442f-f00a-12bd473d515a"
      },
      "execution_count": 42,
      "outputs": [
        {
          "output_type": "stream",
          "name": "stderr",
          "text": [
            "WARNING:absl:Found untraced functions such as lstm_cell_3_layer_call_fn, lstm_cell_3_layer_call_and_return_conditional_losses while saving (showing 2 of 2). These functions will not be directly callable after loading.\n"
          ]
        },
        {
          "output_type": "stream",
          "name": "stdout",
          "text": [
            "INFO:tensorflow:Assets written to: /content/drive/MyDrive/Colab Notebooks/LSTM_imbalanced.pkl/assets\n"
          ]
        },
        {
          "output_type": "stream",
          "name": "stderr",
          "text": [
            "INFO:tensorflow:Assets written to: /content/drive/MyDrive/Colab Notebooks/LSTM_imbalanced.pkl/assets\n",
            "WARNING:absl:<keras.layers.recurrent.LSTMCell object at 0x7f80b1a57a90> has the same name 'LSTMCell' as a built-in Keras object. Consider renaming <class 'keras.layers.recurrent.LSTMCell'> to avoid naming conflicts when loading with `tf.keras.models.load_model`. If renaming is not possible, pass the object in the `custom_objects` parameter of the load function.\n"
          ]
        }
      ]
    },
    {
      "cell_type": "code",
      "source": [
        "lstm = tf.keras.models.load_model(file_name)"
      ],
      "metadata": {
        "id": "10IzX7mquL3u"
      },
      "execution_count": 43,
      "outputs": []
    },
    {
      "cell_type": "code",
      "source": [
        "lstm_pred = lstm.predict(test_seq)\n",
        "lstm_y = lstm_pred.flatten()\n",
        "lstm_y\n",
        "lstm_y = np.where(lstm_y > 0.5, 1, 0)\n",
        "lstm_y"
      ],
      "metadata": {
        "colab": {
          "base_uri": "https://localhost:8080/"
        },
        "id": "M-e0XYEQvqkl",
        "outputId": "e80e3a07-a026-49cb-eb0f-fbab218f915d"
      },
      "execution_count": 44,
      "outputs": [
        {
          "output_type": "execute_result",
          "data": {
            "text/plain": [
              "array([1, 1, 1, ..., 1, 1, 1])"
            ]
          },
          "metadata": {},
          "execution_count": 44
        }
      ]
    },
    {
      "cell_type": "code",
      "source": [
        "from sklearn.metrics import precision_score, \\\n",
        "    recall_score, confusion_matrix, classification_report, \\\n",
        "    accuracy_score, f1_score\n",
        "\n",
        "\n",
        "print('Accuracy:', accuracy_score(y_test, lstm_y))\n",
        "print('F1 score:', f1_score(y_test, lstm_y))\n",
        "print('Recall:', recall_score(y_test, lstm_y))\n",
        "print('Precision:', precision_score(y_test, lstm_y))\n",
        "\n",
        "print(classification_report(y_test, lstm_y))"
      ],
      "metadata": {
        "colab": {
          "base_uri": "https://localhost:8080/"
        },
        "id": "kkl-RxPjuOVN",
        "outputId": "565e05f2-1177-4b8c-964a-623d59d431aa"
      },
      "execution_count": 45,
      "outputs": [
        {
          "output_type": "stream",
          "name": "stdout",
          "text": [
            "Accuracy: 0.861701409970991\n",
            "F1 score: 0.9257138715755906\n",
            "Recall: 1.0\n",
            "Precision: 0.861701409970991\n",
            "              precision    recall  f1-score   support\n",
            "\n",
            "           0       0.00      0.00      0.00      6150\n",
            "           1       0.86      1.00      0.93     38319\n",
            "\n",
            "    accuracy                           0.86     44469\n",
            "   macro avg       0.43      0.50      0.46     44469\n",
            "weighted avg       0.74      0.86      0.80     44469\n",
            "\n"
          ]
        },
        {
          "output_type": "stream",
          "name": "stderr",
          "text": [
            "/usr/local/lib/python3.7/dist-packages/sklearn/metrics/_classification.py:1318: UndefinedMetricWarning: Precision and F-score are ill-defined and being set to 0.0 in labels with no predicted samples. Use `zero_division` parameter to control this behavior.\n",
            "  _warn_prf(average, modifier, msg_start, len(result))\n",
            "/usr/local/lib/python3.7/dist-packages/sklearn/metrics/_classification.py:1318: UndefinedMetricWarning: Precision and F-score are ill-defined and being set to 0.0 in labels with no predicted samples. Use `zero_division` parameter to control this behavior.\n",
            "  _warn_prf(average, modifier, msg_start, len(result))\n",
            "/usr/local/lib/python3.7/dist-packages/sklearn/metrics/_classification.py:1318: UndefinedMetricWarning: Precision and F-score are ill-defined and being set to 0.0 in labels with no predicted samples. Use `zero_division` parameter to control this behavior.\n",
            "  _warn_prf(average, modifier, msg_start, len(result))\n"
          ]
        }
      ]
    },
    {
      "cell_type": "code",
      "source": [
        "weighted_results = lstm.evaluate(test_seq, y_test,\n",
        "                                           batch_size=64, verbose=0)\n",
        "for name, value in zip(lstm.metrics_names, weighted_results):\n",
        "  print(name, ': ', value)\n",
        "print()"
      ],
      "metadata": {
        "colab": {
          "base_uri": "https://localhost:8080/"
        },
        "id": "djhJjSk9uWwM",
        "outputId": "66f84fdb-ff74-45f3-eaee-2dfd507c4d2b"
      },
      "execution_count": 42,
      "outputs": [
        {
          "output_type": "stream",
          "name": "stdout",
          "text": [
            "loss :  0.19164100289344788\n",
            "tp :  36886.0\n",
            "fp :  1806.0\n",
            "tn :  4344.0\n",
            "fn :  1433.0\n",
            "accuracy :  0.927162766456604\n",
            "precision :  0.9533236622810364\n",
            "recall :  0.9626033902168274\n",
            "auc :  0.9482412934303284\n",
            "prc :  0.9886367321014404\n",
            "\n"
          ]
        }
      ]
    },
    {
      "cell_type": "code",
      "source": [
        ""
      ],
      "metadata": {
        "id": "25CSYvqMaI1t"
      },
      "execution_count": null,
      "outputs": []
    }
  ]
}